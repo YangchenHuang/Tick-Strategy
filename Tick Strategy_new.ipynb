{
 "cells": [
  {
   "cell_type": "markdown",
   "metadata": {},
   "source": [
    "# Tick Strategy\n",
    "_Version 0.1_"
   ]
  },
  {
   "cell_type": "code",
   "execution_count": 46,
   "metadata": {
    "ExecuteTime": {
     "end_time": "2019-11-03T03:51:24.769298Z",
     "start_time": "2019-11-03T03:51:23.999931Z"
    }
   },
   "outputs": [],
   "source": [
    "%matplotlib inline\n",
    "%reload_ext autoreload\n",
    "%autoreload 2\n",
    "\n",
    "import matplotlib\n",
    "import matplotlib.pyplot as plt\n",
    "import numpy as np\n",
    "import pandas as pd\n",
    "\n",
    "# load our helper functios\n",
    "import simtools as st\n",
    "import tick_new as tk\n",
    "import datetime\n",
    "\n",
    "matplotlib.rcParams[ 'figure.figsize' ] = ( 18, 12 )"
   ]
  },
  {
   "cell_type": "markdown",
   "metadata": {},
   "source": [
    "### Load TAQ Data\n",
    "\n",
    "We'll assume we have already done some cleaning by using our Tick Data Setup or similar code"
   ]
  },
  {
   "cell_type": "code",
   "execution_count": 2,
   "metadata": {
    "ExecuteTime": {
     "end_time": "2019-11-03T02:22:22.957695Z",
     "start_time": "2019-11-03T02:21:31.858371Z"
    }
   },
   "outputs": [],
   "source": [
    "# the tickfile is a combined file of trades and quotes\n",
    "tickfile = 'TSLA-TAQ-aug19v2.zip'\n",
    "taq = pd.read_pickle(tickfile)"
   ]
  },
  {
   "cell_type": "code",
   "execution_count": 3,
   "metadata": {
    "ExecuteTime": {
     "end_time": "2019-11-03T02:25:10.510799Z",
     "start_time": "2019-11-03T02:25:04.239827Z"
    }
   },
   "outputs": [],
   "source": [
    "# filter on date, we need two dates, last trading day and today\n",
    "test_day=datetime.datetime.strptime('08/02/19', '%m/%d/%y')\n",
    "timedelta1=datetime.timedelta(days=1)\n",
    "timedelta3=datetime.timedelta(days=3)\n",
    "\n",
    "if test_day.weekday()==0:    \n",
    "    last_day=test_day-timedelta3\n",
    "else:\n",
    "    last_day=test_day-timedelta1\n",
    "    \n",
    "test_day=datetime.datetime.strftime(test_day, '%m/%d/%y')\n",
    "last_day=datetime.datetime.strftime(last_day, '%m/%d/%y')\n",
    "\n",
    "day = taq[test_day]\n",
    "last= taq[last_day]\n"
   ]
  },
  {
   "cell_type": "markdown",
   "metadata": {},
   "source": [
    "## Run the Simulator"
   ]
  },
  {
   "cell_type": "code",
   "execution_count": 67,
   "metadata": {
    "ExecuteTime": {
     "end_time": "2019-11-02T09:41:35.724393Z",
     "start_time": "2019-11-02T09:41:35.147720Z"
    }
   },
   "outputs": [
    {
     "data": {
      "text/html": [
       "<div>\n",
       "<style scoped>\n",
       "    .dataframe tbody tr th:only-of-type {\n",
       "        vertical-align: middle;\n",
       "    }\n",
       "\n",
       "    .dataframe tbody tr th {\n",
       "        vertical-align: top;\n",
       "    }\n",
       "\n",
       "    .dataframe thead th {\n",
       "        text-align: right;\n",
       "    }\n",
       "</style>\n",
       "<table border=\"1\" class=\"dataframe\">\n",
       "  <thead>\n",
       "    <tr style=\"text-align: right;\">\n",
       "      <th></th>\n",
       "      <th>exch</th>\n",
       "      <th>bid_px</th>\n",
       "      <th>bid_size</th>\n",
       "      <th>ask_px</th>\n",
       "      <th>ask_size</th>\n",
       "      <th>qu_cond</th>\n",
       "      <th>qu_seqnum</th>\n",
       "      <th>natbbo_ind</th>\n",
       "      <th>qu_cancel</th>\n",
       "      <th>qu_source</th>\n",
       "      <th>symbol</th>\n",
       "      <th>suffix_x</th>\n",
       "      <th>suffix_y</th>\n",
       "      <th>trade_size</th>\n",
       "      <th>trade_px</th>\n",
       "    </tr>\n",
       "  </thead>\n",
       "  <tbody>\n",
       "    <tr>\n",
       "      <th>2019-08-02 09:30:00.009655386</th>\n",
       "      <td>K</td>\n",
       "      <td>231.25</td>\n",
       "      <td>1.0</td>\n",
       "      <td>232.77</td>\n",
       "      <td>3.0</td>\n",
       "      <td>R</td>\n",
       "      <td>2339887.0</td>\n",
       "      <td>0.0</td>\n",
       "      <td>NaN</td>\n",
       "      <td>N</td>\n",
       "      <td>TSLA</td>\n",
       "      <td>NaN</td>\n",
       "      <td>NaN</td>\n",
       "      <td>NaN</td>\n",
       "      <td>NaN</td>\n",
       "    </tr>\n",
       "    <tr>\n",
       "      <th>2019-08-02 09:30:00.019727816</th>\n",
       "      <td>Q</td>\n",
       "      <td>231.00</td>\n",
       "      <td>1.0</td>\n",
       "      <td>232.00</td>\n",
       "      <td>1.0</td>\n",
       "      <td>R</td>\n",
       "      <td>2340124.0</td>\n",
       "      <td>0.0</td>\n",
       "      <td>NaN</td>\n",
       "      <td>N</td>\n",
       "      <td>TSLA</td>\n",
       "      <td>NaN</td>\n",
       "      <td>NaN</td>\n",
       "      <td>NaN</td>\n",
       "      <td>NaN</td>\n",
       "    </tr>\n",
       "    <tr>\n",
       "      <th>2019-08-02 09:30:00.039247507</th>\n",
       "      <td>Q</td>\n",
       "      <td>231.01</td>\n",
       "      <td>1.0</td>\n",
       "      <td>232.00</td>\n",
       "      <td>1.0</td>\n",
       "      <td>R</td>\n",
       "      <td>2340538.0</td>\n",
       "      <td>0.0</td>\n",
       "      <td>NaN</td>\n",
       "      <td>N</td>\n",
       "      <td>TSLA</td>\n",
       "      <td>NaN</td>\n",
       "      <td>NaN</td>\n",
       "      <td>NaN</td>\n",
       "      <td>NaN</td>\n",
       "    </tr>\n",
       "    <tr>\n",
       "      <th>2019-08-02 09:30:00.146463156</th>\n",
       "      <td>Z</td>\n",
       "      <td>231.49</td>\n",
       "      <td>1.0</td>\n",
       "      <td>232.91</td>\n",
       "      <td>1.0</td>\n",
       "      <td>R</td>\n",
       "      <td>2342963.0</td>\n",
       "      <td>2.0</td>\n",
       "      <td>NaN</td>\n",
       "      <td>N</td>\n",
       "      <td>TSLA</td>\n",
       "      <td>NaN</td>\n",
       "      <td>NaN</td>\n",
       "      <td>NaN</td>\n",
       "      <td>NaN</td>\n",
       "    </tr>\n",
       "    <tr>\n",
       "      <th>2019-08-02 09:30:00.146566023</th>\n",
       "      <td>B</td>\n",
       "      <td>230.47</td>\n",
       "      <td>5.0</td>\n",
       "      <td>232.87</td>\n",
       "      <td>3.0</td>\n",
       "      <td>R</td>\n",
       "      <td>2342965.0</td>\n",
       "      <td>0.0</td>\n",
       "      <td>NaN</td>\n",
       "      <td>N</td>\n",
       "      <td>TSLA</td>\n",
       "      <td>NaN</td>\n",
       "      <td>NaN</td>\n",
       "      <td>NaN</td>\n",
       "      <td>NaN</td>\n",
       "    </tr>\n",
       "  </tbody>\n",
       "</table>\n",
       "</div>"
      ],
      "text/plain": [
       "                              exch  bid_px  bid_size  ask_px  ask_size  \\\n",
       "2019-08-02 09:30:00.009655386    K  231.25       1.0  232.77       3.0   \n",
       "2019-08-02 09:30:00.019727816    Q  231.00       1.0  232.00       1.0   \n",
       "2019-08-02 09:30:00.039247507    Q  231.01       1.0  232.00       1.0   \n",
       "2019-08-02 09:30:00.146463156    Z  231.49       1.0  232.91       1.0   \n",
       "2019-08-02 09:30:00.146566023    B  230.47       5.0  232.87       3.0   \n",
       "\n",
       "                              qu_cond  qu_seqnum  natbbo_ind  qu_cancel  \\\n",
       "2019-08-02 09:30:00.009655386       R  2339887.0         0.0        NaN   \n",
       "2019-08-02 09:30:00.019727816       R  2340124.0         0.0        NaN   \n",
       "2019-08-02 09:30:00.039247507       R  2340538.0         0.0        NaN   \n",
       "2019-08-02 09:30:00.146463156       R  2342963.0         2.0        NaN   \n",
       "2019-08-02 09:30:00.146566023       R  2342965.0         0.0        NaN   \n",
       "\n",
       "                              qu_source symbol  suffix_x  suffix_y  \\\n",
       "2019-08-02 09:30:00.009655386         N   TSLA       NaN       NaN   \n",
       "2019-08-02 09:30:00.019727816         N   TSLA       NaN       NaN   \n",
       "2019-08-02 09:30:00.039247507         N   TSLA       NaN       NaN   \n",
       "2019-08-02 09:30:00.146463156         N   TSLA       NaN       NaN   \n",
       "2019-08-02 09:30:00.146566023         N   TSLA       NaN       NaN   \n",
       "\n",
       "                               trade_size  trade_px  \n",
       "2019-08-02 09:30:00.009655386         NaN       NaN  \n",
       "2019-08-02 09:30:00.019727816         NaN       NaN  \n",
       "2019-08-02 09:30:00.039247507         NaN       NaN  \n",
       "2019-08-02 09:30:00.146463156         NaN       NaN  \n",
       "2019-08-02 09:30:00.146566023         NaN       NaN  "
      ]
     },
     "execution_count": 67,
     "metadata": {},
     "output_type": "execute_result"
    }
   ],
   "source": [
    "# our data\n",
    "day.head()"
   ]
  },
  {
   "cell_type": "code",
   "execution_count": null,
   "metadata": {
    "ExecuteTime": {
     "start_time": "2019-11-03T03:51:29.155Z"
    },
    "scrolled": true
   },
   "outputs": [
    {
     "name": "stdout",
     "output_type": "stream",
     "text": [
      "2019-11-02 23:51:29:679208: Beginning Tick Strategy run\n",
      "Average stock spread for sample: 0.1304\n",
      "2019-11-02 23:51:30:193720: starting main loop\n"
     ]
    }
   ],
   "source": [
    "# simulate the trading\n",
    "results = tk.algo_loop( day, last )"
   ]
  },
  {
   "cell_type": "code",
   "execution_count": 70,
   "metadata": {},
   "outputs": [
    {
     "data": {
      "text/plain": [
       "2019-08-02 09:30:00.281648858    0.065201\n",
       "2019-08-02 09:30:00.282118475    0.052782\n",
       "2019-08-02 09:30:00.290165337    0.053965\n",
       "2019-08-02 09:30:00.796961420    0.042615\n",
       "2019-08-02 09:30:00.943620182    0.032347\n",
       "dtype: float64"
      ]
     },
     "execution_count": 70,
     "metadata": {},
     "output_type": "execute_result"
    }
   ],
   "source": [
    "results['fair_values'].dropna().head()"
   ]
  },
  {
   "cell_type": "code",
   "execution_count": 72,
   "metadata": {
    "ExecuteTime": {
     "end_time": "2019-11-02T21:14:27.441203Z",
     "start_time": "2019-11-02T21:14:27.161493Z"
    }
   },
   "outputs": [
    {
     "data": {
      "text/html": [
       "<div>\n",
       "<style scoped>\n",
       "    .dataframe tbody tr th:only-of-type {\n",
       "        vertical-align: middle;\n",
       "    }\n",
       "\n",
       "    .dataframe tbody tr th {\n",
       "        vertical-align: top;\n",
       "    }\n",
       "\n",
       "    .dataframe thead th {\n",
       "        text-align: right;\n",
       "    }\n",
       "</style>\n",
       "<table border=\"1\" class=\"dataframe\">\n",
       "  <thead>\n",
       "    <tr style=\"text-align: right;\">\n",
       "      <th></th>\n",
       "      <th>price</th>\n",
       "      <th>shares</th>\n",
       "      <th>bar</th>\n",
       "      <th>trade_type</th>\n",
       "      <th>side</th>\n",
       "    </tr>\n",
       "  </thead>\n",
       "  <tbody>\n",
       "    <tr>\n",
       "      <th>2019-08-02 09:30:01.790691796</th>\n",
       "      <td>231.29</td>\n",
       "      <td>1</td>\n",
       "      <td>0</td>\n",
       "      <td>p</td>\n",
       "      <td>s</td>\n",
       "    </tr>\n",
       "    <tr>\n",
       "      <th>2019-08-02 09:30:03.213322084</th>\n",
       "      <td>231.43</td>\n",
       "      <td>4</td>\n",
       "      <td>0</td>\n",
       "      <td>p</td>\n",
       "      <td>b</td>\n",
       "    </tr>\n",
       "    <tr>\n",
       "      <th>2019-08-02 09:30:10.867151280</th>\n",
       "      <td>231.07</td>\n",
       "      <td>5</td>\n",
       "      <td>0</td>\n",
       "      <td>p</td>\n",
       "      <td>s</td>\n",
       "    </tr>\n",
       "    <tr>\n",
       "      <th>2019-08-02 09:30:11.411473578</th>\n",
       "      <td>231</td>\n",
       "      <td>1</td>\n",
       "      <td>0</td>\n",
       "      <td>p</td>\n",
       "      <td>s</td>\n",
       "    </tr>\n",
       "    <tr>\n",
       "      <th>2019-08-02 09:30:11.411475593</th>\n",
       "      <td>231</td>\n",
       "      <td>37</td>\n",
       "      <td>0</td>\n",
       "      <td>a</td>\n",
       "      <td>s</td>\n",
       "    </tr>\n",
       "  </tbody>\n",
       "</table>\n",
       "</div>"
      ],
      "text/plain": [
       "                                price shares bar trade_type side\n",
       "2019-08-02 09:30:01.790691796  231.29      1   0          p    s\n",
       "2019-08-02 09:30:03.213322084  231.43      4   0          p    b\n",
       "2019-08-02 09:30:10.867151280  231.07      5   0          p    s\n",
       "2019-08-02 09:30:11.411473578     231      1   0          p    s\n",
       "2019-08-02 09:30:11.411475593     231     37   0          a    s"
      ]
     },
     "execution_count": 72,
     "metadata": {},
     "output_type": "execute_result"
    }
   ],
   "source": [
    "results['trades'].head()"
   ]
  },
  {
   "cell_type": "code",
   "execution_count": 44,
   "metadata": {
    "ExecuteTime": {
     "end_time": "2019-11-03T03:41:37.724096Z",
     "start_time": "2019-11-03T03:41:18.521118Z"
    }
   },
   "outputs": [],
   "source": [
    "results['trades'].head()\n",
    "sts=results['trades']\n",
    "temp=tk.trade_statistics(sts)"
   ]
  },
  {
   "cell_type": "code",
   "execution_count": 45,
   "metadata": {
    "ExecuteTime": {
     "end_time": "2019-11-03T03:41:42.336481Z",
     "start_time": "2019-11-03T03:41:41.513501Z"
    }
   },
   "outputs": [
    {
     "data": {
      "image/png": "[encoded data removed]",
      "text/plain": [
       "<Figure size 1296x864 with 1 Axes>"
      ]
     },
     "metadata": {
      "needs_background": "light"
     },
     "output_type": "display_data"
    }
   ],
   "source": [
    "plt.plot(temp['hist']['P_L'], color='C0')\n",
    "plt.plot(temp['hist']['current position'],color='C1')\n",
    "plt.show()"
   ]
  },
  {
   "cell_type": "code",
   "execution_count": 75,
   "metadata": {
    "ExecuteTime": {
     "end_time": "2019-11-02T00:00:51.399260Z",
     "start_time": "2019-11-02T00:00:51.283962Z"
    }
   },
   "outputs": [
    {
     "data": {
      "text/plain": [
       "dict_keys(['midpoints', 'fair_values', 'tick_factors', 'trades', 'quote_count', 'day_vwap', 'avg_price'])"
      ]
     },
     "execution_count": 75,
     "metadata": {},
     "output_type": "execute_result"
    }
   ],
   "source": [
    "results.keys()"
   ]
  },
  {
   "cell_type": "code",
   "execution_count": 76,
   "metadata": {
    "ExecuteTime": {
     "end_time": "2019-11-02T00:00:53.391681Z",
     "start_time": "2019-11-02T00:00:53.275245Z"
    }
   },
   "outputs": [
    {
     "data": {
      "text/plain": [
       "232.61886704507017"
      ]
     },
     "execution_count": 76,
     "metadata": {},
     "output_type": "execute_result"
    }
   ],
   "source": [
    "results['day_vwap']"
   ]
  },
  {
   "cell_type": "code",
   "execution_count": 77,
   "metadata": {
    "ExecuteTime": {
     "end_time": "2019-11-02T00:00:55.510936Z",
     "start_time": "2019-11-02T00:00:55.410819Z"
    }
   },
   "outputs": [
    {
     "data": {
      "text/plain": [
       "232.66583315986728"
      ]
     },
     "execution_count": 77,
     "metadata": {},
     "output_type": "execute_result"
    }
   ],
   "source": [
    "results['avg_price']"
   ]
  },
  {
   "cell_type": "code",
   "execution_count": 78,
   "metadata": {
    "ExecuteTime": {
     "end_time": "2019-11-02T00:00:57.452779Z",
     "start_time": "2019-11-02T00:00:57.342198Z"
    }
   },
   "outputs": [
    {
     "data": {
      "text/plain": [
       "-0.046966114797101"
      ]
     },
     "execution_count": 78,
     "metadata": {},
     "output_type": "execute_result"
    }
   ],
   "source": [
    "#slippage vs. vwap\n",
    "results['day_vwap'] - results['avg_price']"
   ]
  },
  {
   "cell_type": "code",
   "execution_count": 79,
   "metadata": {
    "ExecuteTime": {
     "end_time": "2019-11-02T00:01:00.155352Z",
     "start_time": "2019-11-02T00:01:00.039351Z"
    }
   },
   "outputs": [
    {
     "data": {
      "text/html": [
       "<div>\n",
       "<style scoped>\n",
       "    .dataframe tbody tr th:only-of-type {\n",
       "        vertical-align: middle;\n",
       "    }\n",
       "\n",
       "    .dataframe tbody tr th {\n",
       "        vertical-align: top;\n",
       "    }\n",
       "\n",
       "    .dataframe thead th {\n",
       "        text-align: right;\n",
       "    }\n",
       "</style>\n",
       "<table border=\"1\" class=\"dataframe\">\n",
       "  <thead>\n",
       "    <tr style=\"text-align: right;\">\n",
       "      <th></th>\n",
       "      <th>price</th>\n",
       "      <th>shares</th>\n",
       "      <th>bar</th>\n",
       "      <th>side</th>\n",
       "    </tr>\n",
       "    <tr>\n",
       "      <th>trade_type</th>\n",
       "      <th></th>\n",
       "      <th></th>\n",
       "      <th></th>\n",
       "      <th></th>\n",
       "    </tr>\n",
       "  </thead>\n",
       "  <tbody>\n",
       "    <tr>\n",
       "      <th>a</th>\n",
       "      <td>1137</td>\n",
       "      <td>1137</td>\n",
       "      <td>1137</td>\n",
       "      <td>1137</td>\n",
       "    </tr>\n",
       "    <tr>\n",
       "      <th>p</th>\n",
       "      <td>2984</td>\n",
       "      <td>2984</td>\n",
       "      <td>2984</td>\n",
       "      <td>2984</td>\n",
       "    </tr>\n",
       "  </tbody>\n",
       "</table>\n",
       "</div>"
      ],
      "text/plain": [
       "            price  shares   bar  side\n",
       "trade_type                           \n",
       "a            1137    1137  1137  1137\n",
       "p            2984    2984  2984  2984"
      ]
     },
     "execution_count": 79,
     "metadata": {},
     "output_type": "execute_result"
    }
   ],
   "source": [
    "results['trades'].groupby(['trade_type']).count()"
   ]
  },
  {
   "cell_type": "code",
   "execution_count": null,
   "metadata": {},
   "outputs": [],
   "source": []
  }
 ],
 "metadata": {
  "kernelspec": {
   "display_name": "Python 3",
   "language": "python",
   "name": "python3"
  },
  "language_info": {
   "codemirror_mode": {
    "name": "ipython",
    "version": 3
   },
   "file_extension": ".py",
   "mimetype": "text/x-python",
   "name": "python",
   "nbconvert_exporter": "python",
   "pygments_lexer": "ipython3",
   "version": "3.7.4"
  },
  "toc": {
   "base_numbering": 1,
   "nav_menu": {},
   "number_sections": true,
   "sideBar": true,
   "skip_h1_title": false,
   "title_cell": "Table of Contents",
   "title_sidebar": "Contents",
   "toc_cell": false,
   "toc_position": {},
   "toc_section_display": true,
   "toc_window_display": false
  },
  "varInspector": {
   "cols": {
    "lenName": 16,
    "lenType": 16,
    "lenVar": 40
   },
   "kernels_config": {
    "python": {
     "delete_cmd_postfix": "",
     "delete_cmd_prefix": "del ",
     "library": "var_list.py",
     "varRefreshCmd": "print(var_dic_list())"
    },
    "r": {
     "delete_cmd_postfix": ") ",
     "delete_cmd_prefix": "rm(",
     "library": "var_list.r",
     "varRefreshCmd": "cat(var_dic_list()) "
    }
   },
   "types_to_exclude": [
    "module",
    "function",
    "builtin_function_or_method",
    "instance",
    "_Feature"
   ],
   "window_display": false
  }
 },
 "nbformat": 4,
 "nbformat_minor": 4
}
